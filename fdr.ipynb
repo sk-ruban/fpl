{
 "cells": [
  {
   "cell_type": "code",
   "execution_count": 183,
   "id": "c61df5d0-cd0e-40a9-9701-063abe771964",
   "metadata": {},
   "outputs": [],
   "source": [
    "%reset -f\n",
    "import pandas as pd\n",
    "import requests\n",
    "import json\n",
    "from collections import defaultdict"
   ]
  },
  {
   "cell_type": "code",
   "execution_count": 184,
   "id": "f3dcef63-bd33-417e-8fed-c2da27dd0b5e",
   "metadata": {},
   "outputs": [],
   "source": [
    "# api endpoints\n",
    "url = 'https://fantasy.premierleague.com/api/bootstrap-static/'\n",
    "fixtures = 'https://fantasy.premierleague.com/api/fixtures/'"
   ]
  },
  {
   "cell_type": "code",
   "execution_count": 185,
   "id": "83519901-6b97-475b-a7c7-5fc34c1d0841",
   "metadata": {},
   "outputs": [
    {
     "name": "stdout",
     "output_type": "stream",
     "text": [
      "The API request was successful.\n"
     ]
    }
   ],
   "source": [
    "# making requests\n",
    "response = requests.get(url)\n",
    "fixtures = requests.get(fixtures).json()\n",
    "\n",
    "# check status\n",
    "if response.status_code == 200:\n",
    "    print('The API request was successful.')\n",
    "else:\n",
    "    print(f'Error: The API request failed with status code {response.status_code}.')"
   ]
  },
  {
   "cell_type": "code",
   "execution_count": 186,
   "id": "df33310a-274d-4e87-a6c9-d7f7cf16fa0b",
   "metadata": {},
   "outputs": [],
   "source": [
    "# mapping teams\n",
    "teams = response.json()['teams']\n",
    "team_mapping = {}\n",
    "\n",
    "for team in teams:\n",
    "    team_mapping[team['id']] = team['name']"
   ]
  },
  {
   "cell_type": "code",
   "execution_count": 187,
   "id": "b2607c8a-3d15-4426-bf46-34c52b9dabd9",
   "metadata": {},
   "outputs": [],
   "source": [
    "# team difficulty - start of season\n",
    "team_difficulty = {\n",
    "    \"Arsenal\": 6,\n",
    "    \"Aston Villa\": 4, \n",
    "    \"Bournemouth\": 2,\n",
    "    \"Brentford\": 4,\n",
    "    \"Brighton\": 5,\n",
    "    \"Burnley\": 1,\n",
    "    \"Chelsea\": 4,\n",
    "    \"Crystal Palace\": 3,\n",
    "    \"Everton\": 2,\n",
    "    \"Fulham\": 3, \n",
    "    \"Liverpool\": 6,\n",
    "    \"Luton\": 1,\n",
    "    \"Man City\": 7,\n",
    "    \"Man United\": 5,\n",
    "    \"Newcastle\": 5,\n",
    "    \"Nott'm Forest\": 3,\n",
    "    \"Sheffield Utd\": 1,\n",
    "    \"Spurs\": 5,\n",
    "    \"West Ham\": 4, \n",
    "    \"Wolves\": 2\n",
    "}"
   ]
  },
  {
   "cell_type": "code",
   "execution_count": 188,
   "id": "54720140-5ed7-47cc-ab24-15b8c8867787",
   "metadata": {},
   "outputs": [
    {
     "data": {
      "text/html": [
       "<div>\n",
       "<style scoped>\n",
       "    .dataframe tbody tr th:only-of-type {\n",
       "        vertical-align: middle;\n",
       "    }\n",
       "\n",
       "    .dataframe tbody tr th {\n",
       "        vertical-align: top;\n",
       "    }\n",
       "\n",
       "    .dataframe thead th {\n",
       "        text-align: right;\n",
       "    }\n",
       "</style>\n",
       "<table border=\"1\" class=\"dataframe\">\n",
       "  <thead>\n",
       "    <tr style=\"text-align: right;\">\n",
       "      <th></th>\n",
       "      <th>Count</th>\n",
       "    </tr>\n",
       "    <tr>\n",
       "      <th>Difficulty</th>\n",
       "      <th></th>\n",
       "    </tr>\n",
       "  </thead>\n",
       "  <tbody>\n",
       "    <tr>\n",
       "      <th>7</th>\n",
       "      <td>1</td>\n",
       "    </tr>\n",
       "    <tr>\n",
       "      <th>6</th>\n",
       "      <td>2</td>\n",
       "    </tr>\n",
       "    <tr>\n",
       "      <th>5</th>\n",
       "      <td>4</td>\n",
       "    </tr>\n",
       "    <tr>\n",
       "      <th>4</th>\n",
       "      <td>4</td>\n",
       "    </tr>\n",
       "    <tr>\n",
       "      <th>3</th>\n",
       "      <td>3</td>\n",
       "    </tr>\n",
       "    <tr>\n",
       "      <th>2</th>\n",
       "      <td>3</td>\n",
       "    </tr>\n",
       "    <tr>\n",
       "      <th>1</th>\n",
       "      <td>3</td>\n",
       "    </tr>\n",
       "  </tbody>\n",
       "</table>\n",
       "</div>"
      ],
      "text/plain": [
       "            Count\n",
       "Difficulty       \n",
       "7               1\n",
       "6               2\n",
       "5               4\n",
       "4               4\n",
       "3               3\n",
       "2               3\n",
       "1               3"
      ]
     },
     "execution_count": 188,
     "metadata": {},
     "output_type": "execute_result"
    }
   ],
   "source": [
    "freq = defaultdict(int)\n",
    "for v in team_difficulty.values():\n",
    "    freq[v] += 1\n",
    "    \n",
    "df = pd.DataFrame.from_dict(freq, orient='index', columns=['Count'])\n",
    "df.index.name = 'Difficulty'\n",
    "df = df.sort_index(ascending=False)\n",
    "\n",
    "df"
   ]
  },
  {
   "cell_type": "code",
   "execution_count": 189,
   "id": "a0d88081-36ef-43f3-ad12-0ff5291ac075",
   "metadata": {},
   "outputs": [],
   "source": [
    "\n",
    "\n",
    "#print(json.dumps(fixtures, indent=4, sort_keys=True))"
   ]
  },
  {
   "cell_type": "code",
   "execution_count": 190,
   "id": "673b1d9e-ea8b-4755-9993-8e0112ada952",
   "metadata": {},
   "outputs": [
    {
     "name": "stdout",
     "output_type": "stream",
     "text": [
      "GW 1: Home: Burnley Away:Man City\n",
      "GW 1: Home: Arsenal Away:Nott'm Forest\n",
      "GW 1: Home: Bournemouth Away:West Ham\n",
      "GW 1: Home: Brighton Away:Luton\n",
      "GW 1: Home: Everton Away:Fulham\n",
      "GW 1: Home: Sheffield Utd Away:Crystal Palace\n",
      "GW 1: Home: Newcastle Away:Aston Villa\n",
      "GW 1: Home: Brentford Away:Spurs\n",
      "GW 1: Home: Chelsea Away:Liverpool\n",
      "GW 1: Home: Man Utd Away:Wolves\n",
      "GW 2: Home: Nott'm Forest Away:Sheffield Utd\n",
      "GW 2: Home: Fulham Away:Brentford\n",
      "GW 2: Home: Liverpool Away:Bournemouth\n",
      "GW 2: Home: Wolves Away:Brighton\n",
      "GW 2: Home: Spurs Away:Man Utd\n",
      "GW 2: Home: Man City Away:Newcastle\n",
      "GW 2: Home: Aston Villa Away:Everton\n",
      "GW 2: Home: West Ham Away:Chelsea\n",
      "GW 2: Home: Crystal Palace Away:Arsenal\n",
      "GW 3: Home: Chelsea Away:Luton\n",
      "GW 3: Home: Bournemouth Away:Spurs\n",
      "GW 3: Home: Arsenal Away:Fulham\n",
      "GW 3: Home: Brentford Away:Crystal Palace\n",
      "GW 3: Home: Everton Away:Wolves\n",
      "GW 3: Home: Man Utd Away:Nott'm Forest\n",
      "GW 3: Home: Brighton Away:West Ham\n",
      "GW 3: Home: Burnley Away:Aston Villa\n",
      "GW 3: Home: Sheffield Utd Away:Man City\n",
      "GW 3: Home: Newcastle Away:Liverpool\n",
      "GW 4: Home: Luton Away:West Ham\n",
      "GW 4: Home: Sheffield Utd Away:Everton\n",
      "GW 4: Home: Brentford Away:Bournemouth\n",
      "GW 4: Home: Burnley Away:Spurs\n",
      "GW 4: Home: Chelsea Away:Nott'm Forest\n",
      "GW 4: Home: Man City Away:Fulham\n",
      "GW 4: Home: Brighton Away:Newcastle\n",
      "GW 4: Home: Crystal Palace Away:Wolves\n",
      "GW 4: Home: Liverpool Away:Aston Villa\n",
      "GW 4: Home: Arsenal Away:Man Utd\n"
     ]
    }
   ],
   "source": [
    "for match in fixtures:\n",
    "    if 'event' not in match or match['event'] is None:\n",
    "        continue\n",
    "    elif match['event'] >= 1 and match['event'] <= 4:\n",
    "        print(f\"GW {match['event']}: Home: {team_mapping[match['team_h']]} Away:{team_mapping[match['team_a']]}\")\n",
    "        # s = pd.Series([match['team_a'], match['team_h']], \n",
    "        #               index=['team_a', 'team_h'], \n",
    "        #               name=match['event'])\n",
    "        # df = df.append(s)\n",
    "\n",
    "# df = df.reset_index().pivot(index='index', columns='level_1', values=0)\n",
    "# df.columns.name = None\n",
    "# df.index.name = 'event'"
   ]
  },
  {
   "cell_type": "code",
   "execution_count": null,
   "id": "756618fd-5f2e-4627-98fc-0a4b6d591b1d",
   "metadata": {},
   "outputs": [],
   "source": []
  }
 ],
 "metadata": {
  "kernelspec": {
   "display_name": "Python 3 (ipykernel)",
   "language": "python",
   "name": "python3"
  },
  "language_info": {
   "codemirror_mode": {
    "name": "ipython",
    "version": 3
   },
   "file_extension": ".py",
   "mimetype": "text/x-python",
   "name": "python",
   "nbconvert_exporter": "python",
   "pygments_lexer": "ipython3",
   "version": "3.11.4"
  }
 },
 "nbformat": 4,
 "nbformat_minor": 5
}
